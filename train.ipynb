{
 "cells": [
  {
   "cell_type": "code",
   "execution_count": null,
   "metadata": {},
   "outputs": [],
   "source": [
    "import mindspore\n",
    "from mindspore import nn\n",
    "from mindspore import ops\n",
    "import mindspore.dataset as dataset\n",
    "from mindspore.dataset import vision, transforms\n",
    "from mindspore.train import Model, CheckpointConfig, ModelCheckpoint, LossMonitor\n",
    "from model import UNet\n",
    "from MyAcc import PixelAcc\n",
    "from dataloader import loaddata\n",
    "from mindspore import load_checkpoint\n",
    "import cv2\n",
    "import numpy as np"
   ]
  },
  {
   "cell_type": "code",
   "execution_count": 3,
   "metadata": {},
   "outputs": [],
   "source": [
    "model = UNet()\n",
    "train_dataset = loaddata('./train/',512,512,6,shuffle=True)\n",
    "test_dataset = loaddata('./val/',512,512,6,shuffle=True)"
   ]
  },
  {
   "cell_type": "code",
   "execution_count": 4,
   "metadata": {},
   "outputs": [],
   "source": [
    "loss_fn = nn.BCELoss()\n",
    "optimizer = nn.Adam(model.trainable_params(), learning_rate=0.0001)\n",
    "# optimizer = nn.Adam(model.trainable_params(), learning_rate=1e-4,weight_decay=0.0001)\n",
    "steps_per_epoch = 2000\n",
    "config = CheckpointConfig(save_checkpoint_steps=steps_per_epoch)\n",
    "\n",
    "ckpt_callback = ModelCheckpoint(prefix=\"unet\", directory=\"./checkpoint_copy\", config=config)\n",
    "loss_callback = LossMonitor()"
   ]
  },
  {
   "cell_type": "code",
   "execution_count": null,
   "metadata": {},
   "outputs": [],
   "source": [
    "trainer = Model(model, loss_fn=loss_fn, optimizer=optimizer, metrics={\"MyAcc\":PixelAcc()})#\n",
    "\n",
    "trainer.fit(500, train_dataset,test_dataset, callbacks=[ckpt_callback, loss_callback])  "
   ]
  }
 ],
 "metadata": {
  "kernelspec": {
   "display_name": "python-3.7.10",
   "language": "python",
   "name": "python-3.7.10"
  },
  "language_info": {
   "codemirror_mode": {
    "name": "ipython",
    "version": 3
   },
   "file_extension": ".py",
   "mimetype": "text/x-python",
   "name": "python",
   "nbconvert_exporter": "python",
   "pygments_lexer": "ipython3",
   "version": "3.7.10"
  }
 },
 "nbformat": 4,
 "nbformat_minor": 4
}
